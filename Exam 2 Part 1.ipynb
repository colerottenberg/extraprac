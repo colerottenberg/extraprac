{
 "cells": [
  {
   "cell_type": "markdown",
   "id": "301aff5a",
   "metadata": {},
   "source": [
    "# Exam 2 Part 1"
   ]
  },
  {
   "cell_type": "markdown",
   "id": "d66f599f",
   "metadata": {},
   "source": [
    "# Problem 1 (10 points)"
   ]
  },
  {
   "cell_type": "markdown",
   "id": "50b377df",
   "metadata": {},
   "source": [
    "In statistics, a $k^{th}$ percentile is a score below which a given percentage $k$ of scores in its frequency distribution falls. Thus, the $k^{th}$ percentile $\\pi(k)$ of a random variable $X$ is defined by $P[X \\leq \\pi(k)]=k/100$.\n",
    "\n",
    "(a) (5 points) Find the $90\\%$ and $95\\%$ percentile of the Exponential random variable with parameter $\\lambda$. Your answer should be in terms of $\\lambda$.\n",
    "\n",
    "(b) (5 points) Find the $90\\%$ and $95\\%$ percentile of the Gaussian random variable with mean $\\mu=0$ and variance $\\sigma^2$. Your answer should be in terms of $\\sigma$."
   ]
  },
  {
   "cell_type": "markdown",
   "id": "3620b9a3",
   "metadata": {},
   "source": [
    "# Problem 2 (12 points)\n",
    "\n",
    "The random variable $X$ has the following probability density function (PDF).\n",
    "\n",
    "\\begin{align*}\n",
    "f_X(x) = \\begin{cases} cx(4-x^{2}), & \\text{if } 0\\leq x\\leq 2\\\\ 0, & \\text{otherwise}\\end{cases}\n",
    "\\end{align*}\n",
    "\n",
    "1. (3 points) Determine the value of $c$ and draw an approximate plot of the PDF.\n",
    "\n",
    "2. (2 points) Determine the CDF of $X$.\n",
    "\n",
    "3. (3 points) Find $P[0 < X \\leq 1]$, $P[X = 1]$, and $P[0.5 < X < 1.5]$.\n",
    "\n",
    "4. (2 points) Compute the first moment of $X$.\n",
    "\n",
    "5. (2 points) Compute the second central moment of $X$.\n",
    "\n"
   ]
  },
  {
   "cell_type": "markdown",
   "id": "16ade97b",
   "metadata": {},
   "source": [
    "# Problem 3 (10 points)\n",
    "\n",
    "In a binary communication system, the received signal is a noisy version of the transmitted signal. \n",
    "\n",
    "In the presence of noise, the received signal can be modeled as $X= s + N$, where: \n",
    "* $s \\in \\{-1, 1\\}$ depends on which signal is transmitted (-1 or 1), and\n",
    "* $N$ is a discrete random variable with the following probability mass function (PMF): \n",
    "\n",
    "\\begin{align*}\n",
    "p_N(n) = \\begin{cases} 0.5, & n=c\\\\ 0.5, & n=-c\\\\ 0, & \\text{otherwise}\\end{cases}\n",
    "\\end{align*}\n",
    "\n",
    "1. (2 points) What is the mean and variance of the noise $N$?\n",
    "2. (1 point) Draw the PMF of $N$ for $c=2$. \n",
    "3. (3 points) Write out the conditional distribution of $X$, i.e., the PMF of $X$ for each possible signal transmitted.\n",
    "4. (2 points) Draw overlapping PMFs of $X$ for the two types of signals transmitted (-1 or 1), for $c=2$.\n",
    "5. (2 points) Calculate the probability of error for $c>1$, if the decision rule is:\n",
    "\n",
    "\\begin{align*}\n",
    "\\begin{cases} \\hat{T}_{1}, & X \\ge 0\\\\ \\hat{T}_{-1}, & X<0, \\end{cases}\n",
    "\\end{align*}\n",
    "\n",
    "where $\\hat{T}_i$ denotes deciding that $i$ was transmitted (-1 or 1). Assume that $P(T_{-1})=P(T_{1})=\\frac{1}{2}$."
   ]
  },
  {
   "cell_type": "markdown",
   "id": "8dffdf0b",
   "metadata": {},
   "source": [
    "# Problem 4 (18 points)\n",
    "\n",
    "An internet service provider says in its advertising material that it provides uploads and downloads with mean latency of $17$ milliseconds (ms). After signing up, you notice a longer lag. After performing $5$ ping tests, you find that the latency values for you are $[17, 19, 18, 21, 17]$ms.\n",
    "\n",
    "1. (3 points) Compute the unbiased sample mean estimator and the unbiased sample variance estimator for the latency.\n",
    "2. (6 points) Suppose that the true variance $\\sigma^2$ is unknown. Answer the following questions (you may use any provided tables):\n",
    "\n",
    "    a) Test the hypothesis $\\mu=17$ at $95$% confidence with a one-sided (one-tailed) test. What is the conclusion?\n",
    "    \n",
    "    b) Determine the range of values for the sample mean for which the hypothesis $\\mu=17$ is accepted with 95% confidence.\n",
    "\n",
    "\n",
    "3. (6 points) You read the fine print and found the true variance $\\sigma^2 = 2.8$. Answer the following questions (you may use any provided tables):\n",
    "\n",
    "    a) Test the hypothesis $\\mu=17$ at $95$% confidence with a one-sided (one-tailed) test. What is the conclusion?\n",
    "    \n",
    "    b) Determine the range of values for the sample mean for which the hypothesis $\\mu=17$ is accepted with 95% confidence.\n",
    "    \n",
    "    \n",
    "4. (3 points) Comment on the results of 2. and 3. Are the conclusions the same? If not, why not? What would happen as you perform more and more tests (i.e., as the sample size increases)?"
   ]
  },
  {
   "cell_type": "code",
   "execution_count": null,
   "id": "f0d39efe",
   "metadata": {},
   "outputs": [],
   "source": []
  }
 ],
 "metadata": {
  "kernelspec": {
   "display_name": "Python 3 (ipykernel)",
   "language": "python",
   "name": "python3"
  },
  "language_info": {
   "codemirror_mode": {
    "name": "ipython",
    "version": 3
   },
   "file_extension": ".py",
   "mimetype": "text/x-python",
   "name": "python",
   "nbconvert_exporter": "python",
   "pygments_lexer": "ipython3",
   "version": "3.11.4"
  },
  "latex_envs": {
   "LaTeX_envs_menu_present": true,
   "autoclose": false,
   "autocomplete": true,
   "bibliofile": "biblio.bib",
   "cite_by": "apalike",
   "current_citInitial": 1,
   "eqLabelWithNumbers": true,
   "eqNumInitial": 1,
   "hotkeys": {
    "equation": "Ctrl-E",
    "itemize": "Ctrl-I"
   },
   "labels_anchors": false,
   "latex_user_defs": false,
   "report_style_numbering": false,
   "user_envs_cfg": false
  },
  "varInspector": {
   "cols": {
    "lenName": 16,
    "lenType": 16,
    "lenVar": 40
   },
   "kernels_config": {
    "python": {
     "delete_cmd_postfix": "",
     "delete_cmd_prefix": "del ",
     "library": "var_list.py",
     "varRefreshCmd": "print(var_dic_list())"
    },
    "r": {
     "delete_cmd_postfix": ") ",
     "delete_cmd_prefix": "rm(",
     "library": "var_list.r",
     "varRefreshCmd": "cat(var_dic_list()) "
    }
   },
   "types_to_exclude": [
    "module",
    "function",
    "builtin_function_or_method",
    "instance",
    "_Feature"
   ],
   "window_display": false
  }
 },
 "nbformat": 4,
 "nbformat_minor": 5
}
